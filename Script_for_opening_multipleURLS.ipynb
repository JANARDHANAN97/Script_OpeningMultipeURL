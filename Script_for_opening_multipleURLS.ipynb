{
 "cells": [
  {
   "cell_type": "code",
   "execution_count": 2,
   "metadata": {},
   "outputs": [],
   "source": [
    "import webbrowser\n",
    "import os"
   ]
  },
  {
   "cell_type": "code",
   "execution_count": 10,
   "metadata": {},
   "outputs": [
    {
     "name": "stdout",
     "output_type": "stream",
     "text": [
      "https://www.mathsisfun.com/data/bayes-theorem.html\n",
      " <class 'str'>\n",
      "https://corporatefinanceinstitute.com/resources/knowledge/other/bayes-theorem/\n",
      " <class 'str'>\n",
      "https://www.statisticshowto.com/bayes-theorem-problems/\n",
      " <class 'str'>\n",
      "https://byjus.com/maths/bayes-theorem/\n",
      " <class 'str'>\n",
      "https://www.investopedia.com/terms/b/bayes-theorem.asp\n",
      " <class 'str'>\n",
      "https://towardsdatascience.com/what-is-bayes-rule-bb6598d8a2fd\n",
      " <class 'str'>\n",
      "https://machinelearningmastery.com/bayes-theorem-for-machine-learning/\n",
      " <class 'str'>\n",
      "\n",
      " <class 'str'>\n",
      "chain rule\n",
      " <class 'str'>\n",
      "conditional independence \n",
      " <class 'str'>\n",
      "Expectaation and Varainace\n",
      " <class 'str'>\n"
     ]
    }
   ],
   "source": [
    "os.chdir(r\"C:\\Users\\janar\\Documents\")\n",
    "with open(\"Bayes Theorem.txt\", mode=\"r\", encoding=\"utf-8\") as f:\n",
    "    for i in f:\n",
    "        print(i , type(i))\n",
    "        if i.startswith(\"http\"):\n",
    "            webbrowser.open(i)\n",
    "        \n",
    "    "
   ]
  },
  {
   "cell_type": "code",
   "execution_count": null,
   "metadata": {},
   "outputs": [],
   "source": []
  }
 ],
 "metadata": {
  "kernelspec": {
   "display_name": "Python 3",
   "language": "python",
   "name": "python3"
  },
  "language_info": {
   "codemirror_mode": {
    "name": "ipython",
    "version": 3
   },
   "file_extension": ".py",
   "mimetype": "text/x-python",
   "name": "python",
   "nbconvert_exporter": "python",
   "pygments_lexer": "ipython3",
   "version": "3.8.3"
  }
 },
 "nbformat": 4,
 "nbformat_minor": 4
}
